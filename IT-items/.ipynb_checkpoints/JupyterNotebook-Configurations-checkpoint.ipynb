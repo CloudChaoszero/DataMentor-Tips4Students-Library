{
 "cells": [
  {
   "cell_type": "markdown",
   "metadata": {},
   "source": [
    "**Setting up Python (Anaconda) in CL/Bash [PC Users]**\n",
    "\n",
    "1. In Anaconda Prompt, type `where python` and `where conda`.\n",
    "2. Save one of those paths\n",
    "3. Go to Edit Environmental Variables\n",
    "4. Save the path on the PATH section\n",
    "6. Save\n",
    "7. Close Command Prompt and Reopen\n",
    "8. In command prompt, enter `python`\n",
    "\n",
    "Note: From the link below, please note to enter the path up to the last folder, and not the file \\\n",
    "Example: \n",
    "\n",
    "```C:\\Users\\User_name\\AppData\\Local\\Continuum\\anaconda3\\``` instead of ```C:\\Users\\User_name\\AppData\\Local\\Continuum\\anaconda3\\python.exe```\n",
    "\n",
    "[Anaconda Path Env Variable Windows](https://stackoverflow.com/questions/34030373/anaconda-path-environment-variable-in-windows)\n",
    "\n",
    "or just work with *Anaconda Prompt* for now"
   ]
  },
  {
   "cell_type": "markdown",
   "metadata": {},
   "source": [
    "**Creating Environment **\n",
    "\n",
    "conda create -n PythonData_3 python=3.6 anaconda"
   ]
  },
  {
   "cell_type": "markdown",
   "metadata": {},
   "source": [
    "**Binding Environment in Anaconda Prompt (for Juptyer Notebook Kernel recognition)**\n",
    "1. Activate your environment. \n",
    "2. Then type \"python -m ipykernel Install --user --name PythonData --display-name \"Python (PythonData)\"\n",
    "\n",
    "3. Once complete, with no errors, save and close jupyter notebook and close Anaconda Prompt. \n",
    "4. Reopen Anaconda Prompt, and then type Jupyter Notebook.\n",
    "5. Change kernel, All Set"
   ]
  },
  {
   "cell_type": "markdown",
   "metadata": {},
   "source": [
    "**SSH Key setup**\n",
    "\n",
    "\n",
    "*SSH Key and Gitlab: How to*\n",
    "Hey, everyone!\n",
    "\n",
    "If you are interested in establishing your SSH key with our Gitlab repository, you can do the following to set that up in *Bash*.\n",
    "\n",
    "(MAC and command line is similar; follow the instructions from the below links)\n",
    "\n",
    "1. type `cat ~/.ssh/id_rsa.pub` What this does is identify if you have a SSH key established. If you see \"No such file or directory\", that's okay!\n",
    "2. `ssh-keygen -t rsa -C \"mygithubemail@mail.com\"` which your email replaced in the command (this generates your ssh key)\n",
    "3. `cat ~/.ssh/id_rsa.pub` to acquire your ssh key\n",
    "4. Copy and paste into the ssh text box in Gitlab>(Account?)Settings\n",
    "5. save\n",
    "6. on bash, `git clone` *SomegitLabRepository.git*"
   ]
  },
  {
   "cell_type": "markdown",
   "metadata": {
    "collapsed": true
   },
   "source": [
    "[Reset Github Login Issue: Access Denied](https://www.youtube.com/watch?v=qbgnf0HD-kk)\n",
    "\n",
    "[Intial Git Setup](https://www.youtube.com/watch?v=n6-diuejduM)"
   ]
  },
  {
   "cell_type": "code",
   "execution_count": null,
   "metadata": {},
   "outputs": [],
   "source": []
  }
 ],
 "metadata": {
  "kernelspec": {
   "display_name": "Python 3",
   "language": "python",
   "name": "python3"
  },
  "language_info": {
   "codemirror_mode": {
    "name": "ipython",
    "version": 3
   },
   "file_extension": ".py",
   "mimetype": "text/x-python",
   "name": "python",
   "nbconvert_exporter": "python",
   "pygments_lexer": "ipython3",
   "version": "3.6.5"
  }
 },
 "nbformat": 4,
 "nbformat_minor": 2
}

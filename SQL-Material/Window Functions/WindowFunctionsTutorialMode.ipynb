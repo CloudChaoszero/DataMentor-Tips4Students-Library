{
 "cells": [
  {
   "cell_type": "markdown",
   "metadata": {},
   "source": [
    "# Powering your Window Functions through Mode Analytics\n",
    "\n",
    "by [Raul Maldonado](https://www.linkedin.com/in/raulm8/)\n",
    "\n",
    "![Windows](https://images.homedepot-static.com/productImages/871dab45-5e41-4702-aa22-42883b668266/svn/tafco-windows-sliding-windows-vus2424op-64_1000.jpg)"
   ]
  },
  {
   "cell_type": "markdown",
   "metadata": {},
   "source": [
    "# Introduction\n",
    "\n",
    "Window functions are a type of calculation across a set of table rows. Window functions provide the ability of going through with calculation without having to group by and then do an aggregation compression, but rather doing the aggregation without consolidating the grouped set of rows/values.\n",
    "\n",
    "As a more specified defintion [here](https://www.postgresql.org/docs/9.1/tutorial-window.html)\n",
    "\n",
    "> \"A window function performs a calculation across a set of table rows that are somehow related to the current row. But unlike regular aggregate functions, a window function does not cause rows to be grouped into a single output row--the rows retain separate identifies with aggregation\"\n",
    "\n",
    "\n",
    "We'll be using the **tutorial.sat_scores** table showing a demonstration of the benefits of Window Functions"
   ]
  },
  {
   "cell_type": "markdown",
   "metadata": {},
   "source": [
    "## Window Functions"
   ]
  },
  {
   "cell_type": "markdown",
   "metadata": {},
   "source": [
    "## 1. Aggregation\n",
    "\n",
    "### Code:\n",
    "```\n",
    "aggregation_value OVER ()\n",
    "```\n",
    "\n",
    "### Example:\n",
    "\n",
    "\n",
    "```\n",
    "SELECT \n",
    "teacher,\n",
    "COUNT(sat_writing),\n",
    "COUNT(sat_writing) / SUM(COUNT(sat_writing)) OVER ()::float ratio\n",
    "FROM tutorial.sat_scores\n",
    "GROUP BY teacher;\n",
    "```"
   ]
  },
  {
   "cell_type": "code",
   "execution_count": null,
   "metadata": {},
   "outputs": [],
   "source": [
    "datasets['0-WindowFunctions-1-Over'][:5]"
   ]
  },
  {
   "cell_type": "markdown",
   "metadata": {},
   "source": [
    "## 2. Cumulative Total\n",
    "\n",
    "### Code:\n",
    "\n",
    "```\n",
    "value,\n",
    "aggregation_value OVER \n",
    "(ORDER BY value ASC rows between unbounded preceding\n",
    "AND current row)\n",
    "```\n",
    "\n",
    "### Example\n",
    "\n",
    "```\n",
    "\n",
    "SELECT \n",
    "teacher,\n",
    "SUM(sat_writing) OVER (ORDER BY teacher ASC \n",
    "           rows between unbounded preceding \n",
    "           AND current row)\n",
    "FROM tutorial.sat_scores\n",
    "```"
   ]
  },
  {
   "cell_type": "code",
   "execution_count": null,
   "metadata": {},
   "outputs": [],
   "source": [
    "datasets['0-WindowFunctions-2-Cumulative'][:5]"
   ]
  },
  {
   "cell_type": "markdown",
   "metadata": {},
   "source": [
    "## 3. Ranking\n",
    "\n",
    "### Code:\n",
    "```\n",
    "RANK OVER (ORDER BY aggregation_value ASC)\n",
    "```\n",
    "\n",
    "\n",
    "### Example:\n",
    "\n",
    "```\n",
    "SELECT \n",
    "teacher, \n",
    "SUM(sat_writing),\n",
    "RANK() OVER (ORDER BY SUM(sat_writing) DESC)\n",
    "FROM tutorial.sat_scores\n",
    "GROUP BY 1\n",
    "LIMIT 1\n",
    "OFFSET 1\n",
    "```"
   ]
  },
  {
   "cell_type": "code",
   "execution_count": null,
   "metadata": {},
   "outputs": [],
   "source": [
    "datasets['0-WindowFunctions-3-Ranking'][:5]"
   ]
  },
  {
   "cell_type": "markdown",
   "metadata": {},
   "source": [
    "## 4. Partitioned Ranks\n",
    "\n",
    "### Code:\n",
    "```\n",
    "RANK OVER (PARTITION BY aggregation_value ORDER BY aggregation_value ASC)\n",
    "```\n",
    "\n",
    "### Example:\n",
    "\n",
    "```\n",
    "SELECT \n",
    "school, \n",
    "teacher,\n",
    "SUM(sat_writing),\n",
    "RANK() OVER (partition by school ORDER BY SUM(sat_writing) ASC)\n",
    "FROM tutorial.sat_scores\n",
    "GROUP BY 1,2\n",
    "```"
   ]
  },
  {
   "cell_type": "code",
   "execution_count": null,
   "metadata": {},
   "outputs": [],
   "source": [
    "datasets['0-WindowFunctions-4-PartitionWindows'][:5]"
   ]
  },
  {
   "cell_type": "markdown",
   "metadata": {},
   "source": [
    "Hope you've enjoyed this brief overview of Window Functions! :D \n",
    "\n",
    "Cheers!\n",
    "\n",
    "\n",
    "## Resources\n",
    "https://www.postgresql.org/docs/9.1/tutorial-window.html"
   ]
  }
 ],
 "metadata": {
  "kernelspec": {
   "display_name": "Python (UCBExtension))",
   "language": "python",
   "name": "ucbextension"
  },
  "language_info": {
   "codemirror_mode": {
    "name": "ipython",
    "version": 2
   },
   "file_extension": ".py",
   "mimetype": "text/x-python",
   "name": "python",
   "nbconvert_exporter": "python",
   "pygments_lexer": "ipython2",
   "version": "2.7.15"
  }
 },
 "nbformat": 4,
 "nbformat_minor": 2
}
